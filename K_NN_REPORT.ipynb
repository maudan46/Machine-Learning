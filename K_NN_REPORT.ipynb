{
  "nbformat": 4,
  "nbformat_minor": 0,
  "metadata": {
    "colab": {
      "provenance": []
    },
    "kernelspec": {
      "name": "python3",
      "display_name": "Python 3"
    },
    "language_info": {
      "name": "python"
    }
  },
  "cells": [
    {
      "cell_type": "markdown",
      "source": [
        "Overview of K-NN Algorithm in Machine Learning:\n",
        "\n",
        "K-Nearest Neighbors (K-NN) is a simple yet effective supervised machine learning algorithm used for classification and regression tasks. The basic idea behind K-NN is to predict the unknown value of a new data point based on the known values of its K nearest neighbors in the training dataset."
      ],
      "metadata": {
        "id": "oQuoQT6ZFTFi"
      }
    },
    {
      "cell_type": "markdown",
      "source": [
        "Euclidean Distance:\n",
        "\n",
        "*   K-NN relies on measuring distances between data points. Euclidean Distance is commonly used to calculate the distance between two points in a space.\n",
        "*   It's like finding the straight-line distance between two points, resembling the shortest path between them."
      ],
      "metadata": {
        "id": "IS8b1o3JFcp0"
      }
    },
    {
      "cell_type": "markdown",
      "source": [
        "How K-NN Works:\n",
        "\n",
        "*  For a new data point, the algorithm calculates its Euclidean distance to all other points in the dataset.\n",
        "*   It identifies the K-nearest data points with the smallest distances to the new point.\n",
        "*   For classification tasks, the algorithm takes a majority vote among the K-nearest neighbors to assign a class label to the new point\n",
        "*   For regression tasks, the algorithm takes the average of the K-nearest neighbors' values to predict the new point's value."
      ],
      "metadata": {
        "id": "x05N2rsOFeF3"
      }
    },
    {
      "cell_type": "markdown",
      "source": [
        "Choosing the Right K:\n",
        "\n",
        "*   The choice of K (number of neighbors) is crucial. Too small K might make the model sensitive to noise, whereas too large K might make it less sensitive to local patterns.\n",
        "*   One simple way to choose K is by taking the square root of the total number of data points in the training set.\n",
        "*   For instance, if there are 100 data points, the square root of 100 is 10, so K could be set to 10."
      ],
      "metadata": {
        "id": "h2rLEtxuFgn5"
      }
    },
    {
      "cell_type": "markdown",
      "source": [
        "When choosing the value of K for the K-NN algorithm, it's often a good practice to use an odd number, especially in binary classification tasks.\n",
        "\n",
        "Using an odd value for K helps in situations where you need a clear majority when voting for the class of the new data point. With an odd K value, there won't be a tie when taking a majority vote among the neighbors, ensuring a definitive decision.\n",
        "\n",
        "However, the choice of K ultimately depends on the specific dataset and problem at hand. It's a good practice to try different K values and evaluate the algorithm's performance using techniques like cross-validation to determine the optimal K for your particular task."
      ],
      "metadata": {
        "id": "0kpJjtntGTZs"
      }
    },
    {
      "cell_type": "markdown",
      "source": [
        "Pseudocode for K-NN Algorithm:"
      ],
      "metadata": {
        "id": "qAO8L1LCGcFX"
      }
    },
    {
      "cell_type": "code",
      "source": [
        "Function KNN(train_data, train_labels, new_data, K):\n",
        "    Initialize an empty list distances_and_labels\n",
        "    For each data_point, label in train_data, train_labels:\n",
        "        Calculate the Euclidean distance between new_data and data_point\n",
        "        Append (distance, label) to distances_and_labels\n",
        "\n",
        "    Sort distances_and_labels by distance in ascending order\n",
        "    Select the first K elements from distances_and_labels\n",
        "\n",
        "    For each selected neighbor_label:\n",
        "        Count the occurrences of each neighbor_label\n",
        "    Assign the label with the highest count as the predicted label for new_data\n",
        "\n",
        "    Return the predicted label"
      ],
      "metadata": {
        "id": "DDloowCbGbJJ"
      },
      "execution_count": null,
      "outputs": []
    },
    {
      "cell_type": "markdown",
      "source": [
        "REAL K-NN Algorithm"
      ],
      "metadata": {
        "id": "QsjnzIkJGk83"
      }
    },
    {
      "cell_type": "markdown",
      "source": [
        "Import Libraries"
      ],
      "metadata": {
        "id": "cVntItRWG6Ew"
      }
    },
    {
      "cell_type": "code",
      "source": [
        "import numpy as np\n",
        "from sklearn.datasets import make_classification\n",
        "from sklearn.model_selection import train_test_split\n",
        "from sklearn.metrics import accuracy_score"
      ],
      "metadata": {
        "id": "lbOG2hyJGtds"
      },
      "execution_count": 1,
      "outputs": []
    },
    {
      "cell_type": "markdown",
      "source": [
        "Generate Synthetic Data"
      ],
      "metadata": {
        "id": "BLkLZdqOG8dB"
      }
    },
    {
      "cell_type": "code",
      "source": [
        "# Generate synthetic data for demonstration\n",
        "X, y = make_classification(n_samples=100, n_features=2, n_informative=2, n_redundant=0, random_state=42)\n"
      ],
      "metadata": {
        "id": "f0VwkcDPGvjb"
      },
      "execution_count": 2,
      "outputs": []
    },
    {
      "cell_type": "markdown",
      "source": [
        "Split Data into Training and Testing Sets"
      ],
      "metadata": {
        "id": "GH75e9bsG-zd"
      }
    },
    {
      "cell_type": "code",
      "source": [
        "# Split the data into training and testing sets\n",
        "X_train, X_test, y_train, y_test = train_test_split(X, y, test_size=0.2, random_state=42)\n"
      ],
      "metadata": {
        "id": "nvzgjn-yGw0o"
      },
      "execution_count": 3,
      "outputs": []
    },
    {
      "cell_type": "markdown",
      "source": [
        "K-NN Algorithm Implementation"
      ],
      "metadata": {
        "id": "ceULRmWtHAN1"
      }
    },
    {
      "cell_type": "code",
      "source": [
        "# Implement the K-NN algorithm\n",
        "def knn_predict(train_data, train_labels, new_data, K):\n",
        "    distances_and_labels = []\n",
        "\n",
        "    for data_point, label in zip(train_data, train_labels):\n",
        "        distance = np.linalg.norm(new_data - data_point)  # Euclidean distance calculation\n",
        "        distances_and_labels.append((distance, label))\n",
        "\n",
        "    distances_and_labels.sort(key=lambda x: x[0])  # Sort by distance\n",
        "\n",
        "    k_nearest_neighbors = distances_and_labels[:K]\n",
        "\n",
        "    neighbor_labels = [neighbor[1] for neighbor in k_nearest_neighbors]\n",
        "\n",
        "    predicted_label = max(set(neighbor_labels), key=neighbor_labels.count)  # Majority vote\n",
        "\n",
        "    return predicted_label\n"
      ],
      "metadata": {
        "id": "nEefb86SGyMw"
      },
      "execution_count": 4,
      "outputs": []
    },
    {
      "cell_type": "markdown",
      "source": [
        "Make Predictions and Evaluate Accuracy"
      ],
      "metadata": {
        "id": "Dk5rZDskHB8B"
      }
    },
    {
      "cell_type": "code",
      "source": [
        "# Make predictions and evaluate accuracy\n",
        "K = 3  # You can change the value of K here\n",
        "\n",
        "predictions = []\n",
        "\n",
        "for data_point in X_test:\n",
        "    prediction = knn_predict(X_train, y_train, data_point, K)\n",
        "    predictions.append(prediction)\n",
        "\n",
        "accuracy = accuracy_score(y_test, predictions)\n",
        "print(f\"Accuracy with K={K}: {accuracy * 100:.2f}%\")\n"
      ],
      "metadata": {
        "colab": {
          "base_uri": "https://localhost:8080/"
        },
        "id": "g7zWhV4hG04S",
        "outputId": "9afd1ae4-0a2d-4bb7-9d18-550cbf77e26f"
      },
      "execution_count": 5,
      "outputs": [
        {
          "output_type": "stream",
          "name": "stdout",
          "text": [
            "Accuracy with K=3: 95.00%\n"
          ]
        }
      ]
    },
    {
      "cell_type": "markdown",
      "source": [
        "In the context of the K-Nearest Neighbors (K-NN) algorithm, there is no explicit loss function or optimization function to be minimized during the training process. K-NN is a lazy learning algorithm, meaning it doesn't have a training phase where it learns parameters from the data. Instead, it memorizes the entire training dataset and performs computations at the time of prediction.\n",
        "\n",
        "Loss functions and optimization functions are typically associated with supervised learning algorithms that have a training phase, such as linear regression, logistic regression, or neural networks. These functions are used to quantify the difference between predicted values and actual target values, guiding the optimization process to minimize this difference.\n",
        "\n",
        "Since K-NN doesn't have a training phase with explicit parameters to optimize, it doesn't involve loss functions or optimization functions. Instead, it relies on the entire training dataset and calculates distances at the time of prediction to make decisions."
      ],
      "metadata": {
        "id": "QCE8oBS8Hm-d"
      }
    },
    {
      "cell_type": "markdown",
      "source": [
        "Import Libraries"
      ],
      "metadata": {
        "id": "1YqZt5oPH9OP"
      }
    },
    {
      "cell_type": "code",
      "source": [
        "import numpy as np\n",
        "import matplotlib.pyplot as plt\n"
      ],
      "metadata": {
        "id": "BTgxO-5BHojQ"
      },
      "execution_count": 6,
      "outputs": []
    },
    {
      "cell_type": "markdown",
      "source": [
        "Generate Synthetic Data"
      ],
      "metadata": {
        "id": "iNKXV1OxH-7J"
      }
    },
    {
      "cell_type": "code",
      "source": [
        "# Generate synthetic data for linear regression\n",
        "np.random.seed(42)\n",
        "X = 2 * np.random.rand(100, 1)\n",
        "y = 4 + 3 * X + np.random.randn(100, 1)\n"
      ],
      "metadata": {
        "id": "4NUS8iWxHzmq"
      },
      "execution_count": 7,
      "outputs": []
    },
    {
      "cell_type": "markdown",
      "source": [
        "Define Loss Function (Mean Squared Error)"
      ],
      "metadata": {
        "id": "XAiDC5D8IA1l"
      }
    },
    {
      "cell_type": "code",
      "source": [
        "# Mean Squared Error (MSE) loss function\n",
        "def mean_squared_error(y_true, y_pred):\n",
        "    return np.mean((y_true - y_pred) ** 2)\n"
      ],
      "metadata": {
        "id": "neOpg7G7H1p_"
      },
      "execution_count": 8,
      "outputs": []
    },
    {
      "cell_type": "markdown",
      "source": [
        "Define Optimization Function (Gradient Descent)"
      ],
      "metadata": {
        "id": "cRcftv9YICkN"
      }
    },
    {
      "cell_type": "code",
      "source": [
        "# Gradient Descent optimization function\n",
        "def gradient_descent(X, y, learning_rate=0.1, n_iterations=1000):\n",
        "    m = len(y)\n",
        "    theta = np.random.randn(2, 1)  # Random initialization of weights (including bias)\n",
        "    X_b = np.c_[np.ones((m, 1)), X]  # Add bias term to features\n",
        "\n",
        "    for iteration in range(n_iterations):\n",
        "        gradients = 2/m * X_b.T.dot(X_b.dot(theta) - y)\n",
        "        theta -= learning_rate * gradients\n",
        "\n",
        "    return theta, X_b  # Modified to return X_b along with theta\n"
      ],
      "metadata": {
        "id": "hTiCpfNZH2yJ"
      },
      "execution_count": 12,
      "outputs": []
    },
    {
      "cell_type": "markdown",
      "source": [
        "Apply Gradient Descent and Calculate Loss"
      ],
      "metadata": {
        "id": "idR6ZK8UIEQr"
      }
    },
    {
      "cell_type": "code",
      "source": [
        "# Apply gradient descent to find the optimal parameters (weights) and modified features (X_b)\n",
        "theta, X_b = gradient_descent(X, y)\n",
        "\n",
        "# Make predictions using the linear model\n",
        "X_new = np.array([[0], [2]])\n",
        "X_new_b = np.c_[np.ones((2, 1)), X_new]\n",
        "\n",
        "# Calculate mean squared error for the predictions\n",
        "mse = mean_squared_error(y, X_b.dot(theta))\n",
        "print(\"Mean Squared Error:\", mse)\n",
        "\n"
      ],
      "metadata": {
        "colab": {
          "base_uri": "https://localhost:8080/"
        },
        "id": "V2j-sBBoH38x",
        "outputId": "5e11ce14-cc2e-4fdc-df01-d8e939547c91"
      },
      "execution_count": 13,
      "outputs": [
        {
          "output_type": "stream",
          "name": "stdout",
          "text": [
            "Mean Squared Error: 0.806584563967053\n"
          ]
        }
      ]
    },
    {
      "cell_type": "markdown",
      "source": [
        "Visualize the Data and Linear Regression Line"
      ],
      "metadata": {
        "id": "5P2dbXcWIGEA"
      }
    },
    {
      "cell_type": "code",
      "source": [
        "# Visualize the data and linear regression line\n",
        "plt.scatter(X, y, color='blue', label='Data Points')\n",
        "plt.plot(X_new, y_predict, color='red', label='Linear Regression Line')\n",
        "plt.xlabel('X')\n",
        "plt.ylabel('y')\n",
        "plt.legend()\n",
        "plt.show()\n"
      ],
      "metadata": {
        "colab": {
          "base_uri": "https://localhost:8080/",
          "height": 449
        },
        "id": "6y5YXNoLH5Fu",
        "outputId": "9d6f604b-41e1-4ec3-e150-1117ee0146f6"
      },
      "execution_count": 14,
      "outputs": [
        {
          "output_type": "display_data",
          "data": {
            "text/plain": [
              "<Figure size 640x480 with 1 Axes>"
            ],
            "image/png": "[encoded data removed]"
          },
          "metadata": {}
        }
      ]
    },
    {
      "cell_type": "markdown",
      "source": [
        "CONCLUSION:\n",
        "\n",
        "In this study, we delved into fundamental concepts of machine learning, focusing on the K-Nearest Neighbors (K-NN) algorithm and linear regression. The K-NN algorithm, a non-parametric and lazy learning technique, was explored in detail. By leveraging the Euclidean distance metric, K-NN identifies the K-nearest neighbors to a given data point for classification or regression tasks. The choice of the optimal K value is pivotal, often determined empirically through techniques like cross-validation.\n",
        "\n",
        "Additionally, we examined the essentials of linear regression, a supervised learning algorithm used for predicting continuous numerical outcomes. We implemented a simple linear regression model using gradient descent optimization, minimizing the Mean Squared Error (MSE) loss function. The MSE served as a metric to evaluate the performance of the regression model, representing the average squared difference between predicted and actual values.\n",
        "\n",
        "Through practical implementation in Python, we witnessed the interplay of these concepts. K-NN showcased its versatility in classification tasks, relying on the principle of proximity in feature space. Linear regression, on the other hand, demonstrated the iterative nature of optimization, iteratively adjusting model parameters to minimize prediction errors.\n",
        "\n",
        "This study not only provided a hands-on understanding of these fundamental machine learning techniques but also highlighted the importance of selecting appropriate algorithms, understanding their internal mechanisms, and tuning hyperparameters for optimal performance. As machine learning continues to revolutionize various fields, mastering these foundational concepts remains crucial for aspiring data scientists and practitioners, enabling them to tackle real-world problems effectively and make data-driven decisions."
      ],
      "metadata": {
        "id": "VZOEiBBMIn-5"
      }
    },
    {
      "cell_type": "code",
      "source": [
        "!jupyter nbconvert --to html nombre_de_tu_notebook.ipynb\n"
      ],
      "metadata": {
        "colab": {
          "base_uri": "https://localhost:8080/"
        },
        "id": "DWpVaqQxJfDh",
        "outputId": "c2ac280d-4baf-43d8-a437-203f752f8f4f"
      },
      "execution_count": 15,
      "outputs": [
        {
          "output_type": "stream",
          "name": "stdout",
          "text": [
            "[NbConvertApp] WARNING | pattern 'nombre_de_tu_notebook.ipynb' matched no files\n",
            "This application is used to convert notebook files (*.ipynb)\n",
            "        to various other formats.\n",
            "\n",
            "        WARNING: THE COMMANDLINE INTERFACE MAY CHANGE IN FUTURE RELEASES.\n",
            "\n",
            "Options\n",
            "=======\n",
            "The options below are convenience aliases to configurable class-options,\n",
            "as listed in the \"Equivalent to\" description-line of the aliases.\n",
            "To see all configurable class-options for some <cmd>, use:\n",
            "    <cmd> --help-all\n",
            "\n",
            "--debug\n",
            "    set log level to logging.DEBUG (maximize logging output)\n",
            "    Equivalent to: [--Application.log_level=10]\n",
            "--show-config\n",
            "    Show the application's configuration (human-readable format)\n",
            "    Equivalent to: [--Application.show_config=True]\n",
            "--show-config-json\n",
            "    Show the application's configuration (json format)\n",
            "    Equivalent to: [--Application.show_config_json=True]\n",
            "--generate-config\n",
            "    generate default config file\n",
            "    Equivalent to: [--JupyterApp.generate_config=True]\n",
            "-y\n",
            "    Answer yes to any questions instead of prompting.\n",
            "    Equivalent to: [--JupyterApp.answer_yes=True]\n",
            "--execute\n",
            "    Execute the notebook prior to export.\n",
            "    Equivalent to: [--ExecutePreprocessor.enabled=True]\n",
            "--allow-errors\n",
            "    Continue notebook execution even if one of the cells throws an error and include the error message in the cell output (the default behaviour is to abort conversion). This flag is only relevant if '--execute' was specified, too.\n",
            "    Equivalent to: [--ExecutePreprocessor.allow_errors=True]\n",
            "--stdin\n",
            "    read a single notebook file from stdin. Write the resulting notebook with default basename 'notebook.*'\n",
            "    Equivalent to: [--NbConvertApp.from_stdin=True]\n",
            "--stdout\n",
            "    Write notebook output to stdout instead of files.\n",
            "    Equivalent to: [--NbConvertApp.writer_class=StdoutWriter]\n",
            "--inplace\n",
            "    Run nbconvert in place, overwriting the existing notebook (only\n",
            "            relevant when converting to notebook format)\n",
            "    Equivalent to: [--NbConvertApp.use_output_suffix=False --NbConvertApp.export_format=notebook --FilesWriter.build_directory=]\n",
            "--clear-output\n",
            "    Clear output of current file and save in place,\n",
            "            overwriting the existing notebook.\n",
            "    Equivalent to: [--NbConvertApp.use_output_suffix=False --NbConvertApp.export_format=notebook --FilesWriter.build_directory= --ClearOutputPreprocessor.enabled=True]\n",
            "--no-prompt\n",
            "    Exclude input and output prompts from converted document.\n",
            "    Equivalent to: [--TemplateExporter.exclude_input_prompt=True --TemplateExporter.exclude_output_prompt=True]\n",
            "--no-input\n",
            "    Exclude input cells and output prompts from converted document.\n",
            "            This mode is ideal for generating code-free reports.\n",
            "    Equivalent to: [--TemplateExporter.exclude_output_prompt=True --TemplateExporter.exclude_input=True --TemplateExporter.exclude_input_prompt=True]\n",
            "--allow-chromium-download\n",
            "    Whether to allow downloading chromium if no suitable version is found on the system.\n",
            "    Equivalent to: [--WebPDFExporter.allow_chromium_download=True]\n",
            "--disable-chromium-sandbox\n",
            "    Disable chromium security sandbox when converting to PDF..\n",
            "    Equivalent to: [--WebPDFExporter.disable_sandbox=True]\n",
            "--show-input\n",
            "    Shows code input. This flag is only useful for dejavu users.\n",
            "    Equivalent to: [--TemplateExporter.exclude_input=False]\n",
            "--embed-images\n",
            "    Embed the images as base64 dataurls in the output. This flag is only useful for the HTML/WebPDF/Slides exports.\n",
            "    Equivalent to: [--HTMLExporter.embed_images=True]\n",
            "--sanitize-html\n",
            "    Whether the HTML in Markdown cells and cell outputs should be sanitized..\n",
            "    Equivalent to: [--HTMLExporter.sanitize_html=True]\n",
            "--log-level=<Enum>\n",
            "    Set the log level by value or name.\n",
            "    Choices: any of [0, 10, 20, 30, 40, 50, 'DEBUG', 'INFO', 'WARN', 'ERROR', 'CRITICAL']\n",
            "    Default: 30\n",
            "    Equivalent to: [--Application.log_level]\n",
            "--config=<Unicode>\n",
            "    Full path of a config file.\n",
            "    Default: ''\n",
            "    Equivalent to: [--JupyterApp.config_file]\n",
            "--to=<Unicode>\n",
            "    The export format to be used, either one of the built-in formats\n",
            "            ['asciidoc', 'custom', 'html', 'latex', 'markdown', 'notebook', 'pdf', 'python', 'rst', 'script', 'slides', 'webpdf']\n",
            "            or a dotted object name that represents the import path for an\n",
            "            ``Exporter`` class\n",
            "    Default: ''\n",
            "    Equivalent to: [--NbConvertApp.export_format]\n",
            "--template=<Unicode>\n",
            "    Name of the template to use\n",
            "    Default: ''\n",
            "    Equivalent to: [--TemplateExporter.template_name]\n",
            "--template-file=<Unicode>\n",
            "    Name of the template file to use\n",
            "    Default: None\n",
            "    Equivalent to: [--TemplateExporter.template_file]\n",
            "--theme=<Unicode>\n",
            "    Template specific theme(e.g. the name of a JupyterLab CSS theme distributed\n",
            "    as prebuilt extension for the lab template)\n",
            "    Default: 'light'\n",
            "    Equivalent to: [--HTMLExporter.theme]\n",
            "--sanitize_html=<Bool>\n",
            "    Whether the HTML in Markdown cells and cell outputs should be sanitized.This\n",
            "    should be set to True by nbviewer or similar tools.\n",
            "    Default: False\n",
            "    Equivalent to: [--HTMLExporter.sanitize_html]\n",
            "--writer=<DottedObjectName>\n",
            "    Writer class used to write the\n",
            "                                        results of the conversion\n",
            "    Default: 'FilesWriter'\n",
            "    Equivalent to: [--NbConvertApp.writer_class]\n",
            "--post=<DottedOrNone>\n",
            "    PostProcessor class used to write the\n",
            "                                        results of the conversion\n",
            "    Default: ''\n",
            "    Equivalent to: [--NbConvertApp.postprocessor_class]\n",
            "--output=<Unicode>\n",
            "    overwrite base name use for output files.\n",
            "                can only be used when converting one notebook at a time.\n",
            "    Default: ''\n",
            "    Equivalent to: [--NbConvertApp.output_base]\n",
            "--output-dir=<Unicode>\n",
            "    Directory to write output(s) to. Defaults\n",
            "                                  to output to the directory of each notebook. To recover\n",
            "                                  previous default behaviour (outputting to the current\n",
            "                                  working directory) use . as the flag value.\n",
            "    Default: ''\n",
            "    Equivalent to: [--FilesWriter.build_directory]\n",
            "--reveal-prefix=<Unicode>\n",
            "    The URL prefix for reveal.js (version 3.x).\n",
            "            This defaults to the reveal CDN, but can be any url pointing to a copy\n",
            "            of reveal.js.\n",
            "            For speaker notes to work, this must be a relative path to a local\n",
            "            copy of reveal.js: e.g., \"reveal.js\".\n",
            "            If a relative path is given, it must be a subdirectory of the\n",
            "            current directory (from which the server is run).\n",
            "            See the usage documentation\n",
            "            (https://nbconvert.readthedocs.io/en/latest/usage.html#reveal-js-html-slideshow)\n",
            "            for more details.\n",
            "    Default: ''\n",
            "    Equivalent to: [--SlidesExporter.reveal_url_prefix]\n",
            "--nbformat=<Enum>\n",
            "    The nbformat version to write.\n",
            "            Use this to downgrade notebooks.\n",
            "    Choices: any of [1, 2, 3, 4]\n",
            "    Default: 4\n",
            "    Equivalent to: [--NotebookExporter.nbformat_version]\n",
            "\n",
            "Examples\n",
            "--------\n",
            "\n",
            "    The simplest way to use nbconvert is\n",
            "\n",
            "            > jupyter nbconvert mynotebook.ipynb --to html\n",
            "\n",
            "            Options include ['asciidoc', 'custom', 'html', 'latex', 'markdown', 'notebook', 'pdf', 'python', 'rst', 'script', 'slides', 'webpdf'].\n",
            "\n",
            "            > jupyter nbconvert --to latex mynotebook.ipynb\n",
            "\n",
            "            Both HTML and LaTeX support multiple output templates. LaTeX includes\n",
            "            'base', 'article' and 'report'.  HTML includes 'basic', 'lab' and\n",
            "            'classic'. You can specify the flavor of the format used.\n",
            "\n",
            "            > jupyter nbconvert --to html --template lab mynotebook.ipynb\n",
            "\n",
            "            You can also pipe the output to stdout, rather than a file\n",
            "\n",
            "            > jupyter nbconvert mynotebook.ipynb --stdout\n",
            "\n",
            "            PDF is generated via latex\n",
            "\n",
            "            > jupyter nbconvert mynotebook.ipynb --to pdf\n",
            "\n",
            "            You can get (and serve) a Reveal.js-powered slideshow\n",
            "\n",
            "            > jupyter nbconvert myslides.ipynb --to slides --post serve\n",
            "\n",
            "            Multiple notebooks can be given at the command line in a couple of\n",
            "            different ways:\n",
            "\n",
            "            > jupyter nbconvert notebook*.ipynb\n",
            "            > jupyter nbconvert notebook1.ipynb notebook2.ipynb\n",
            "\n",
            "            or you can specify the notebooks list in a config file, containing::\n",
            "\n",
            "                c.NbConvertApp.notebooks = [\"my_notebook.ipynb\"]\n",
            "\n",
            "            > jupyter nbconvert --config mycfg.py\n",
            "\n",
            "To see all available configurables, use `--help-all`.\n",
            "\n"
          ]
        }
      ]
    }
  ]
}